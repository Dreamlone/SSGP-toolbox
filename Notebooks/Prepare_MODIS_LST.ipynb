{
 "cells": [
  {
   "cell_type": "markdown",
   "metadata": {},
   "source": [
    "# Prepare MODIS LST data for Gapfilling process\n",
    "### Supported MODIS products: MOD11A1, MOD11A2, MOD11_L2, MYD11A1, MYD11A2, MYD11_L2"
   ]
  },
  {
   "cell_type": "markdown",
   "metadata": {},
   "source": [
    "Inputs for gapfilling are binary .NPY matrices with values and without any metadata.\n",
    "\n",
    "MODIS data is distributed as .nc files with many additional information.\n",
    "\n",
    "MODIS_MOD_MYD_11 class is dedicated to easily convert source MODIS data to NPY matrices"
   ]
  },
  {
   "cell_type": "code",
   "execution_count": 3,
   "metadata": {},
   "outputs": [],
   "source": [
    "# Import class\n",
    "from SSGPToolbox.Preparators.MODIS.MODIS_MOD_MYD_11 import MODIS_MOD_MYD_11\n",
    "\n",
    "# Additional inputs\n",
    "import os, json, gdal, osr\n",
    "import matplotlib.pyplot as plt\n",
    "import numpy as np"
   ]
  },
  {
   "cell_type": "markdown",
   "metadata": {},
   "source": [
    "## Example files are available at Samples/MODIS_preparation_example/source\n",
    "### MOD11_L2:"
   ]
  },
  {
   "cell_type": "code",
   "execution_count": 2,
   "metadata": {},
   "outputs": [],
   "source": [
    "# Path to input file\n",
    "input_mod11_l2 = os.path.join(os.pardir, 'Samples', 'MODIS_preparation_example', 'source', 'MOD11_L2.A2020048.1915.006.2020050045344.hdf')\n",
    "\n",
    "# Extent for final file\n",
    "extent={'minX': 35, 'minY': 60,'maxX': 36, 'maxY': 61}\n",
    "\n",
    "# Spatial resolution for final file\n",
    "resolution={'xRes': 1000, 'yRes': 1000}\n",
    "\n",
    "# Key values for cloud and no-data pixels. Which values should they have in final file?\n",
    "key_values = {'gap': -100.0, 'skip': -200.0,'NoData': -32768.0}\n",
    "\n",
    "# What to do with quality flags?\n",
    "# 0 - Do not use non-confident data\n",
    "# 1 - Use everything\n",
    "qa_policy = 0\n",
    "\n",
    "# Initialize class\n",
    "preparator = MODIS_MOD_MYD_11(input_mod11_l2,\n",
    "                              key_values = key_values,\n",
    "                              extent=extent,\n",
    "                              resolution=resolution,\n",
    "                              qa_policy=qa_policy)"
   ]
  },
  {
   "cell_type": "code",
   "execution_count": 19,
   "metadata": {},
   "outputs": [
    {
     "data": {
      "text/plain": [
       "{'file_name': 'MOD11_L2.A2020048.1915.006.2020050045344.hdf',\n",
       " 'datetime': '20200217T191500',\n",
       " 'extent': {'minX': 35, 'minY': 60, 'maxX': 36, 'maxY': 61},\n",
       " 'utm_code': 32636,\n",
       " 'utm_extent': {'minX': 611544.0419768346,\n",
       "  'minY': 6653097.435294963,\n",
       "  'maxX': 662218.2208687387,\n",
       "  'maxY': 6766502.990171134},\n",
       " 'resolution': {'xRes': 1000, 'yRes': 1000},\n",
       " 'ds_type': 'L2',\n",
       " 'layer': 'Day',\n",
       " 'qa_policy': 0}"
      ]
     },
     "execution_count": 19,
     "metadata": {},
     "output_type": "execute_result"
    }
   ],
   "source": [
    "# After that preparator variable is class with all metadata available\n",
    "preparator.metadata"
   ]
  },
  {
   "cell_type": "code",
   "execution_count": 20,
   "metadata": {},
   "outputs": [],
   "source": [
    "# You can save metadata - it will be useful for restoring spatial dataset from .NPY produced by Gapfiller\n",
    "preparator.save_metadata(os.path.join(os.pardir, 'Samples', 'MODIS_preparation_example', 'prepared', 'L2', 'l2_metadata.json'))"
   ]
  },
  {
   "cell_type": "code",
   "execution_count": 21,
   "metadata": {},
   "outputs": [],
   "source": [
    "# Now you have 2 options - export data to NPY or to GeoTIFF. It will be automatically clipped to selected extent, reprojected to UTM with selected spatial resolution.\n",
    "# Cloud, nodata and skip pixels will be automatically decoded to values according to key_values dictionary (and to qa_policy)\n",
    "# When exporting - just set output directory. File will be named automatically\n",
    "preparator.archive_to_geotiff(os.path.join(os.pardir, 'Samples', 'MODIS_preparation_example', 'prepared', 'L2'))\n",
    "preparator.archive_to_npy(os.path.join(os.pardir, 'Samples', 'MODIS_preparation_example', 'prepared', 'L2'))"
   ]
  },
  {
   "cell_type": "code",
   "execution_count": 26,
   "metadata": {},
   "outputs": [
    {
     "data": {
      "image/png": "[encoded data removed]",
      "text/plain": [
       "<Figure size 432x288 with 2 Axes>"
      ]
     },
     "metadata": {
      "needs_background": "light"
     },
     "output_type": "display_data"
    }
   ],
   "source": [
    "# Export is finished! Let's chekc results. Visualize NPY\n",
    "plt.close()\n",
    "plt.imshow(np.load(os.path.join(os.pardir, 'Samples', 'MODIS_preparation_example', 'prepared', 'L2', '20200217T191500.npy')), vmin=260, vmax=273)\n",
    "plt.colorbar()\n",
    "plt.show()"
   ]
  },
  {
   "cell_type": "code",
   "execution_count": 1,
   "metadata": {},
   "outputs": [],
   "source": [
    "# Reconstruct geotiff from NPY. import function:\n",
    "from SSGPToolbox.Preparators.common_functions import reconstruct_geotiff"
   ]
  },
  {
   "cell_type": "code",
   "execution_count": 4,
   "metadata": {},
   "outputs": [],
   "source": [
    "# Run reconstruction. Just set path to NPY and saved metadata, and to output GeoTiff\n",
    "reconstruct_geotiff(npy_path = os.path.join(os.pardir, 'Samples', 'MODIS_preparation_example', 'prepared', 'L2', '20200217T191500.npy'),\n",
    "                    metadata_path = os.path.join(os.pardir, 'Samples', 'MODIS_preparation_example', 'prepared', 'L2', 'l2_metadata.json'),\n",
    "                    output_path = os.path.join(os.pardir, 'Samples', 'MODIS_preparation_example', 'prepared', 'L2', '20200217T191500_reconstructed.tif'))"
   ]
  },
  {
   "cell_type": "markdown",
   "metadata": {},
   "source": [
    "### That's all! With these functions you can automate pre-processing and post-processing of your data"
   ]
  },
  {
   "cell_type": "markdown",
   "metadata": {},
   "source": [
    "## What about MOD11A1, MOD11A2, MYD11A1, MYD11A2?\n",
    "### It's all the same, just one additional option is added. You must specify day or night data must be used, as in example:"
   ]
  },
  {
   "cell_type": "code",
   "execution_count": 7,
   "metadata": {},
   "outputs": [],
   "source": [
    "# Path to input file\n",
    "input_mod11_a1 = os.path.join(os.pardir, 'Samples', 'MODIS_preparation_example', 'source', 'MOD11A1.A2020048.h20v03.006.2020050065448.hdf')\n",
    "\n",
    "# Extent for final file\n",
    "extent={'minX': 39, 'minY': 50,'maxX': 40, 'maxY': 51}\n",
    "\n",
    "# Spatial resolution for final file\n",
    "resolution={'xRes': 1000, 'yRes': 1000}\n",
    "\n",
    "# Key values for cloud and no-data pixels. Which values should they have in final file?\n",
    "key_values = {'gap': -100.0, 'skip': -200.0,'NoData': -32768.0}\n",
    "\n",
    "# What to do with quality flags?\n",
    "# 0 - Do not use non-confident data\n",
    "# 1 - Use everything\n",
    "qa_policy = 0\n",
    "\n",
    "# Day or night?\n",
    "layer = 'Day' # or layer = 'Night'\n",
    "\n",
    "# Initialize class\n",
    "preparator = MODIS_MOD_MYD_11(input_mod11_a1,\n",
    "                              key_values = key_values,\n",
    "                              extent=extent,\n",
    "                              resolution=resolution,\n",
    "                              qa_policy=qa_policy,\n",
    "                              layer=layer)\n",
    "\n",
    "preparator.archive_to_geotiff(os.path.join(os.pardir, 'Samples', 'MODIS_preparation_example', 'prepared', 'A1'))\n",
    "preparator.archive_to_npy(os.path.join(os.pardir, 'Samples', 'MODIS_preparation_example', 'prepared', 'A1'))"
   ]
  },
  {
   "cell_type": "code",
   "execution_count": 8,
   "metadata": {},
   "outputs": [],
   "source": [
    "# And for A2 the same too\n",
    "input_mod11_a2 = os.path.join(os.pardir, 'Samples', 'MODIS_preparation_example', 'source', 'MOD11A2.A2020033.h20v03.006.2020042185231.hdf')\n",
    "\n",
    "preparator = MODIS_MOD_MYD_11(input_mod11_a2,\n",
    "                              key_values = key_values,\n",
    "                              extent=extent,\n",
    "                              resolution=resolution,\n",
    "                              qa_policy=qa_policy,\n",
    "                              layer=layer)\n",
    "\n",
    "preparator.archive_to_geotiff(os.path.join(os.pardir, 'Samples', 'MODIS_preparation_example', 'prepared', 'A2'))\n",
    "preparator.archive_to_npy(os.path.join(os.pardir, 'Samples', 'MODIS_preparation_example', 'prepared', 'A2'))"
   ]
  }
 ],
 "metadata": {
  "kernelspec": {
   "display_name": "Python 3",
   "language": "python",
   "name": "python3"
  },
  "language_info": {
   "codemirror_mode": {
    "name": "ipython",
    "version": 3
   },
   "file_extension": ".py",
   "mimetype": "text/x-python",
   "name": "python",
   "nbconvert_exporter": "python",
   "pygments_lexer": "ipython3",
   "version": "3.7.3"
  }
 },
 "nbformat": 4,
 "nbformat_minor": 4
}
