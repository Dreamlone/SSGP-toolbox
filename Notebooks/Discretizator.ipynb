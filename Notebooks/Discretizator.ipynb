{
 "cells": [
  {
   "cell_type": "markdown",
   "metadata": {},
   "source": [
    "# Discretizator - a class intended for creating time series and filling in gaps in it\n",
    "\n",
    "Для проведения анализа полученных данных часто возникает необходимость разместить данные на регулярной временной сетки. Алгоритм позволяет это сделать. После процедуры дискретизации временного ряда возникают пропуски - в определенные моменты времени значения параметра неизвестны. Класс позводяет заполнять пропуски локальным значением медианы, аппроксимировать значения локальными полиномами, или заполнять пропуски выбранными значениями."
   ]
  },
  {
   "cell_type": "markdown",
   "metadata": {},
   "source": [
    "## Parameters\n",
    "\n",
    "### Усреднение\n",
    "- Без усреднения\n",
    "- Простое среднее\n",
    "- Среднее с весами\n",
    "\n",
    "### Метод заполнения\n",
    "- Без заполнения\n",
    "- Локальной медианой\n",
    "- Локальная аппроксимация полиномом невыской степени\n",
    "\n",
    "### Временной шаг\n",
    "- Любое число"
   ]
  },
  {
   "cell_type": "markdown",
   "metadata": {},
   "source": [
    "## Examples"
   ]
  },
  {
   "cell_type": "code",
   "execution_count": 1,
   "metadata": {},
   "outputs": [],
   "source": [
    "from SSGPToolbox.TimeSeries import Discretizator\n",
    "import os"
   ]
  },
  {
   "cell_type": "code",
   "execution_count": 2,
   "metadata": {},
   "outputs": [
    {
     "name": "stdout",
     "output_type": "stream",
     "text": [
      "The time series will be composed with frequency - 12H\n",
      "Start date - 2018-04-01\n",
      "Final date - 2018-05-17\n"
     ]
    }
   ],
   "source": [
    "D = Discretizator(directory = os.path.join(os.pardir, 'Samples', 'S3LST_timeseries_example', 'Inputs'), \n",
    "                  key_values = {'gap': -100.0, 'skip': -200.0} , averaging = 'weighted')\n",
    "# Filling the gaps in the time series\n",
    "tensor, tensor_timesteps = D.make_time_series(timestep = '12H', filling_method = 'poly')"
   ]
  },
  {
   "cell_type": "code",
   "execution_count": 3,
   "metadata": {},
   "outputs": [],
   "source": [
    "# Saving matrices to the folder\n",
    "D.save_npy(tensor, tensor_timesteps, save_path = os.path.join(os.pardir, 'Samples', 'S3LST_timeseries_example', 'Outputs'))"
   ]
  },
  {
   "cell_type": "code",
   "execution_count": 4,
   "metadata": {},
   "outputs": [
    {
     "name": "stdout",
     "output_type": "stream",
     "text": [
      "Путь до файла - ../Samples/S3LST_timeseries_example/Outputs/Result.nc\n",
      "Размерность тензора - (92, 327, 187)\n",
      "Всего слоев в матрице - 92\n"
     ]
    }
   ],
   "source": [
    "# Saving matrices as a multidimensional array in netCDF format\n",
    "D.save_netcdf(tensor, tensor_timesteps, save_path = os.path.join(os.pardir, 'Samples', 'S3LST_timeseries_example', 'Outputs'))"
   ]
  }
 ],
 "metadata": {
  "kernelspec": {
   "display_name": "Python 3",
   "language": "python",
   "name": "python3"
  },
  "language_info": {
   "codemirror_mode": {
    "name": "ipython",
    "version": 3
   },
   "file_extension": ".py",
   "mimetype": "text/x-python",
   "name": "python",
   "nbconvert_exporter": "python",
   "pygments_lexer": "ipython3",
   "version": "3.7.3"
  }
 },
 "nbformat": 4,
 "nbformat_minor": 4
}
