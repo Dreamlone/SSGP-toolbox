{
 "cells": [
  {
   "cell_type": "markdown",
   "metadata": {},
   "source": [
    "# Discretizator - класс, предназначенный для заполнения пропусков во временных рядах "
   ]
  },
  {
   "cell_type": "code",
   "execution_count": 1,
   "metadata": {},
   "outputs": [],
   "source": [
    "from SSGPToolbox.TimeSeries import Discretizator\n",
    "import os"
   ]
  },
  {
   "cell_type": "code",
   "execution_count": 2,
   "metadata": {},
   "outputs": [
    {
     "name": "stdout",
     "output_type": "stream",
     "text": [
      "The time series will be composed with frequency - 12H\n",
      "Start date - 2018-04-01\n",
      "Final date - 2018-05-17\n"
     ]
    }
   ],
   "source": [
    "D = Discretizator(directory = os.path.join(os.pardir, 'Samples', 'S3LST_timeseries_example', 'Inputs'), key_values = {'gap': -100.0, 'skip': -200.0} , averaging = 'weighted')\n",
    "# Заполнение пропусков во временном ряду\n",
    "tensor, tensor_timesteps = D.make_time_series(timestep = '12H', filling_method = 'poly')"
   ]
  },
  {
   "cell_type": "code",
   "execution_count": 3,
   "metadata": {},
   "outputs": [],
   "source": [
    "# Сохранение матриц в указанную папку\n",
    "D.save_npy(tensor, tensor_timesteps, save_path = os.path.join(os.pardir, 'Samples', 'S3LST_timeseries_example', 'Outputs'))"
   ]
  },
  {
   "cell_type": "code",
   "execution_count": 4,
   "metadata": {},
   "outputs": [
    {
     "name": "stdout",
     "output_type": "stream",
     "text": [
      "Путь до файла - ../Samples/S3LST_timeseries_example/Outputs/Result.nc\n",
      "Размерность тензора - (92, 327, 187)\n",
      "Всего слоев в матрице - 92\n"
     ]
    }
   ],
   "source": [
    "# Сохранение матриц в виде многомерного массива в формат netCDF\n",
    "D.save_netcdf(tensor, tensor_timesteps, save_path = os.path.join(os.pardir, 'Samples', 'S3LST_timeseries_example', 'Outputs'))"
   ]
  }
 ],
 "metadata": {
  "kernelspec": {
   "display_name": "Python 3",
   "language": "python",
   "name": "python3"
  },
  "language_info": {
   "codemirror_mode": {
    "name": "ipython",
    "version": 3
   },
   "file_extension": ".py",
   "mimetype": "text/x-python",
   "name": "python",
   "nbconvert_exporter": "python",
   "pygments_lexer": "ipython3",
   "version": "3.7.3"
  }
 },
 "nbformat": 4,
 "nbformat_minor": 4
}
