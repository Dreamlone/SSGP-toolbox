{
 "cells": [
  {
   "cell_type": "markdown",
   "metadata": {},
   "source": [
    "# Discretizator - a class intended for creating time series and filling in gaps in it\n",
    "\n",
    "To analyze the received data, it is often necessary to place the data on a regular time grid. The algorithm allows you to do this. After the procedure, sampling of the time series there are gaps. They occur because the parameter values are unknown at certain points in time. This class allows you to fill in gaps with a local median value, approximate values with local polynomials, or fill in gaps with selected values.\n",
    "\n",
    "![Discretization.png](https://raw.githubusercontent.com/Dreamlone/SSGP-toolbox/master/Supplementary/images/rm_6_Discretization.png)\n",
    "\n",
    "## Data preparation\n",
    "\n",
    "For the algorithm to work correctly, you need to put .npy matrices into one folder. File names must be in the format \"20190625T185030.npy\", where 2019.. - year, .. 06.. - month, ..25.. - day, ..T185030 - time hours minutes seconds (format = '%Y%m%dT%H%M%S')."
   ]
  },
  {
   "cell_type": "markdown",
   "metadata": {},
   "source": [
    "## Parameters\n",
    "\n",
    "### Strategy if several layers fall within the same interval - averaging\n",
    "- DEFAULT, 'None' - in case of a collision, the matrix closest to the timestamp is used for this timestamp\n",
    "- 'simple' - in case of a collision, the average value for all matrices is used\n",
    "- 'weighted' - in case of a collision, averaging is used so that the layer closest to the timestamp has the highest weight\n",
    "\n",
    "### Method for filling in gaps - filling_method\n",
    "- DEFAULT, 'None' - all missing values will be filled in with the \"gap\" number\n",
    "- 'median' - filling in gaps with the local (5 known neighbors are used) median for a time series\n",
    "- 'poly' - filling in gaps using local (5 known neighbors are used) approximation by a polynomial (degree = 2)\n",
    "\n",
    "### Time step of sampling - timestep\n",
    "- DEFAULT, '12H' - time interval as a string, for example '6H' - 6 hours, '2D' - 2 days, etc.\n",
    "\n",
    "### Dictionary with gaps and skip values - key_values\n",
    "- DEFAULT, {'gap': -100.0, 'skip': -200.0}"
   ]
  },
  {
   "cell_type": "markdown",
   "metadata": {},
   "source": [
    "## Examples"
   ]
  },
  {
   "cell_type": "code",
   "execution_count": 1,
   "metadata": {},
   "outputs": [],
   "source": [
    "from SSGPToolbox.TimeSeries import Discretizator\n",
    "import os"
   ]
  },
  {
   "cell_type": "markdown",
   "metadata": {},
   "source": [
    "The \"make_time_series\" method returns 2 objects: \n",
    "- tensor --- a multidimensional matrix made up of .npy matrices that were located in the \"directory\" folder\n",
    "- tensor_timesteps --- array consisting of timestamp values"
   ]
  },
  {
   "cell_type": "code",
   "execution_count": 2,
   "metadata": {},
   "outputs": [
    {
     "name": "stdout",
     "output_type": "stream",
     "text": [
      "The time series will be composed with frequency - 12H\n",
      "Start date - 2019-09-10\n",
      "Final date - 2019-09-17\n"
     ]
    }
   ],
   "source": [
    "D = Discretizator(directory = os.path.join(os.pardir, 'Samples', 'S3LST_timeseries_example', 'Inputs'), \n",
    "                  key_values = {'gap': -100.0, 'skip': -200.0} , averaging = 'weighted')\n",
    "# Filling the gaps in the time series\n",
    "tensor, tensor_timesteps = D.make_time_series(timestep = '12H', filling_method = 'poly')"
   ]
  },
  {
   "cell_type": "code",
   "execution_count": 3,
   "metadata": {},
   "outputs": [],
   "source": [
    "# Saving matrices to the folder\n",
    "D.save_npy(tensor, tensor_timesteps, save_path = os.path.join(os.pardir, 'Samples', 'S3LST_timeseries_example', 'Outputs'))"
   ]
  },
  {
   "cell_type": "code",
   "execution_count": 4,
   "metadata": {},
   "outputs": [],
   "source": [
    "# Saving matrices as a multidimensional array in netCDF format\n",
    "D.save_netcdf(tensor, tensor_timesteps, save_path = os.path.join(os.pardir, 'Samples', 'S3LST_timeseries_example', 'Outputs'))"
   ]
  }
 ],
 "metadata": {
  "kernelspec": {
   "display_name": "Python 3",
   "language": "python",
   "name": "python3"
  },
  "language_info": {
   "codemirror_mode": {
    "name": "ipython",
    "version": 3
   },
   "file_extension": ".py",
   "mimetype": "text/x-python",
   "name": "python",
   "nbconvert_exporter": "python",
   "pygments_lexer": "ipython3",
   "version": "3.7.3"
  }
 },
 "nbformat": 4,
 "nbformat_minor": 4
}
