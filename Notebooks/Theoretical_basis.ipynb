{
 "cells": [
  {
   "cell_type": "markdown",
   "metadata": {},
   "source": [
    "# Theoretical basis\n",
    "\n",
    "Алгоритм опирается на значения в известных пикселях той же матрицы, что и пропуск, для того, чтобы расчитать значение в пропуске.\n",
    "\n",
    "## Принцип работы\n",
    "\n",
    "Алгоритм строит отдельно для каждого пикселя свою модель, затем в зависимости от заданных параметров применяет различные способы подбора предикторов. На иллюстрации приведен упрощенный пример того, как алгоритм формирует обучающую выборку.\n",
    "\n",
    "![Construction.png](https://raw.githubusercontent.com/Dreamlone/SSGP-toolbox/master/Supplementary/images/rm_3_Construction.png)"
   ]
  },
  {
   "cell_type": "markdown",
   "metadata": {},
   "source": [
    "Программная реализация содержит 1 класс - SimpleSpatialGapfiller().\n",
    "\n",
    "#### Приватные методы:\n",
    "- __make_training_sample --- формирование обучающей выборки из матриц в папке \"History\"\n",
    "- __learning_and_fill --- заполнение пропусков на конкретной матрице, запись результата в папку \"Outputs\"\n",
    "\n",
    "#### Публичные методы:\n",
    "- fill_gaps --- применение метода __learning_and_fill для каждой из матриц в папке \"Inputs\", создание файла с метаданными о качестве работы алгоритма\n",
    "\n",
    "По результатам проведенных экспериментов с моделью, установлено, что временная сложность алгоритма сублинейная.\n",
    "\n",
    "![Complexity.png](https://raw.githubusercontent.com/Dreamlone/SSGP-toolbox/master/Supplementary/images/rm_4_Complexity.png)"
   ]
  },
  {
   "cell_type": "markdown",
   "metadata": {},
   "source": [
    "Для алгоритма была прозведена верефикация на тепловых данных дистанционного зондирования со спутниковой системы Sentinel-3. Были отобраны 6 разновременных снимков одной территории. Для каждого из 6 снимков генерировался пропуск определенного размера и формы. Всего было сгенерировано 8 типов пропусков. Результаты проведенных тестов можно увидеть ниже. В болшинстве случаев алгоритм ошибался менее чем на 1 градус, при том, что средний разброс значений температуры в пропуске составлял около 10. Резултаты верификации алгоритма можно увидеть ниже.\n",
    "\n",
    "![Results.png](https://raw.githubusercontent.com/Dreamlone/SSGP-toolbox/master/Supplementary/images/rm_5_Results.png)"
   ]
  },
  {
   "cell_type": "markdown",
   "metadata": {},
   "source": [
    "Из графика видно, что точность восстановления данных зависит больше от распределения поля температуры на снимке, чем от размера пропуска."
   ]
  }
 ],
 "metadata": {
  "kernelspec": {
   "display_name": "Python 3",
   "language": "python",
   "name": "python3"
  },
  "language_info": {
   "codemirror_mode": {
    "name": "ipython",
    "version": 3
   },
   "file_extension": ".py",
   "mimetype": "text/x-python",
   "name": "python",
   "nbconvert_exporter": "python",
   "pygments_lexer": "ipython3",
   "version": "3.7.3"
  }
 },
 "nbformat": 4,
 "nbformat_minor": 4
}
