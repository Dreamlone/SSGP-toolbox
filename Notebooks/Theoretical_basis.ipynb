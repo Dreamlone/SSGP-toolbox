{
 "cells": [
  {
   "cell_type": "markdown",
   "metadata": {},
   "source": [
    "# Theoretical basis\n",
    "\n",
    "## Basic principle\n",
    "\n",
    "The algorithm relies on values in known pixels of the same matrix as the gap in order to estimate the value in the gap.\n",
    "\n",
    "The algorithm builds its own model separately for each pixel, then uses different methods for selecting predictors, depending on the set parameters. The illustration shows a simplified example of how the algorithm generates a training sample.\n",
    "\n",
    "![Construction.png](https://raw.githubusercontent.com/Dreamlone/SSGP-toolbox/master/Supplementary/images/rm_3_Construction.png)"
   ]
  },
  {
   "cell_type": "markdown",
   "metadata": {},
   "source": [
    "In the training sample can also be present in the gaps. In this case, the missing values are filled in with the median value for a time series that is compiled for each pixel separately.\n",
    "\n",
    "## Inaccuracies information \n",
    "\n",
    "Each pixel uses its own machine learning algorithm and generates its own training sample. K Fold cross validation is performed for this sample. The resulting cross-validation accuracy value for all filled pixels is averaged for each matrix with gaps."
   ]
  },
  {
   "cell_type": "markdown",
   "metadata": {},
   "source": [
    "## Software implementation \n",
    "\n",
    "The software implementation contains 1 class - SimpleSpatialGapfiller().\n",
    "\n",
    "#### Private methods:\n",
    "- __make_training_sample --- creating a training sample from matrices in the \"History\" folder\n",
    "- __learning_and_fill --- filling in gaps for the matrix, writing the result to the \"Outputs\" folder\n",
    "\n",
    "#### Public methods:\n",
    "- fill_gaps --- using the __learning_and_fill method for each of the matrices in the \"Inputs\" folder, creating a file with metadata about the quality of the algorithm\n",
    "\n",
    "Based on the results of experiments with the model, it was found that the time complexity of the algorithm is sublinear.\n",
    "\n",
    "![Complexity.png](https://raw.githubusercontent.com/Dreamlone/SSGP-toolbox/master/Supplementary/images/rm_4_Complexity.png)"
   ]
  },
  {
   "cell_type": "markdown",
   "metadata": {},
   "source": [
    "## Validation\n",
    "\n",
    "The algorithm was verified using thermal remote sensing data from the Sentinel-3 satellite system. 6 multi-time images of the same territory were selected. A gap of a certain size and shape was generated for each of the 6 images. A total of 8 types of gaps were generated. The results of these tests can be seen below. In most cases, the algorithm was wrong by less than 1 Celsius degree, despite the fact that the average temperature spread in the gap was about 10 degrees. You can see the results of algorithm verification below.\n",
    "\n",
    "![Results.png](https://raw.githubusercontent.com/Dreamlone/SSGP-toolbox/master/Supplementary/images/rm_5_Results.png)"
   ]
  },
  {
   "cell_type": "markdown",
   "metadata": {},
   "source": [
    "You can see from the graph that the accuracy of data recovery depends more on the distribution of the temperature field in the image than on the size of the gap."
   ]
  }
 ],
 "metadata": {
  "kernelspec": {
   "display_name": "Python 3",
   "language": "python",
   "name": "python3"
  },
  "language_info": {
   "codemirror_mode": {
    "name": "ipython",
    "version": 3
   },
   "file_extension": ".py",
   "mimetype": "text/x-python",
   "name": "python",
   "nbconvert_exporter": "python",
   "pygments_lexer": "ipython3",
   "version": "3.7.3"
  }
 },
 "nbformat": 4,
 "nbformat_minor": 4
}
