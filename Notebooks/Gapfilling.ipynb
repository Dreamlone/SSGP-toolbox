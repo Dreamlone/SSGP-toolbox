{
 "cells": [
  {
   "cell_type": "markdown",
   "metadata": {},
   "source": [
    "## Data preparation"
   ]
  },
  {
   "cell_type": "markdown",
   "metadata": {},
   "source": [
    "For the algorithm to work correctly, you need to prepare a training sample and data to fill in the gaps. You should create a folder (LST, NDVI, or any other name) that contains folders (folder names are fixed):\n",
    "\n",
    "![Database.png](https://raw.githubusercontent.com/Dreamlone/SSGP-toolbox/master/Supplementary/images/rm_1_Database.png)\n",
    "\n",
    "## 1. History - folder with matrices in the .npy format - training sample\n",
    "\n",
    "File names must be in the format \"20190625T185030.npy\", where 2019.. - year, .. 06.. - month, ..25.. - day, ..T185030 - time hours minutes seconds (format = '%Y%m%dT%H%M%S'). Matrices in the training sample may contain gaps. During training, the algorithm will either remove these gaps from the training sample, or replace them with the median for the time series for this pixel.\n",
    "\n",
    "## 2. Inputs - a folder with matrices in .npy format that must be filled in\n",
    "\n",
    "File names must be in the format \"20190625T185030.npy\", where 2019.. - year, .. 06.. - month, ..25.. - day, ..T185030 - time hours minutes seconds (format = '%Y%m%dT%H%M%S')\n",
    "\n",
    "## 3. Extra - a folder with a matrix in .npy format that allows you to divide matrix cells into groups. The file name must be \"Extra.npy\"\n",
    "\n",
    "The matrix can look like this:\n",
    "\n",
    "![Biomes.png](https://raw.githubusercontent.com/Dreamlone/SSGP-toolbox/master/Supplementary/images/rm_2_Biomes.png)\n",
    "\n",
    "This matrix must consist of integer values"
   ]
  },
  {
   "cell_type": "markdown",
   "metadata": {},
   "source": [
    "## The values in the matrices\n",
    "\n",
    "1. gap --- the value in pixels to fill in (by default \"-100.0\")\n",
    "\n",
    "2. skip --- No data in pixels that do not need to be filled in, such as sea water, when only pixels with values of the land surface temperature (LST) should be filled in. The algorithm will retrospectively evaluate whether each specific pixel had a skip value, and if it did, the value predicted by the model in this pixel will be equal to skip. (the default is \"-200.0\")\n",
    "\n",
    "3. NoData --- the value in pixels that are not included in the image's extent. This value may also indicate errors when projecting bitmaps. If the number of pixels with this value is in the matrix from the 'History' folder'exceeds a certain number of percentages in the image (self.main_threshold = 0.05), than this matrix will not be included in the training sample. (the default is \"-32768.0\")\n",
    "\n",
    "The algorithm only fills in pixels with \"gap\" values.\n",
    "\n",
    "If the matrix to be filled in has less than 101 unclosed pixels (i.e. not \"gap\", \"skip\", or \"NoData\"), the algorithm does not fill it in. The system displays the message \"No calculation for matrix NAME_OF_MATRIX\". The matrix is not added to the \"Outputs\" folder.\n",
    "\n",
    "If the matrix has no gaps, the message \"No gaps in matrix NAME_OF_MATRIX\" will appear on the screen. The matrix is automatically added to the \"Outputs\" folder.\n",
    "\n",
    "Thus:\n",
    "- The training sample should be placed in the \"History\" folder\n",
    "- The matrices to be filled in should be placed in the \"Inputs\" folder\n",
    "- The \"Extra\" folder is optional and contains a single matrix \"Extra.npy\"\n",
    "- The \"Outputs\" folder is generated while the algorithm is running\n",
    "\n",
    "As a result of the algorithm, the 'Outputs' folder is formed, where the matrices filled in by the algorithm are saved in the .npy format. A .json file is created with the values for evaluating the accuracy of the algorithm for each layer. Accuracy is evaluated by cross-validation on data from the training sample."
   ]
  },
  {
   "cell_type": "markdown",
   "metadata": {},
   "source": [
    "## Parameters\n",
    "\n",
    "### Selecting an algorithm for filling in gaps - method\n",
    "- DEFAULT, 'Lasso' - Lasso regression\n",
    "- 'RandomForest' - the random forest\n",
    "- 'ExtraTrees' - extra trees random forest\n",
    "- 'Knn' - k-nearest neighbors\n",
    "- 'SVR' - support vector regression\n",
    "\n",
    "### Strategies for selecting predictors - predictor_configuration\n",
    "- DEFAULT, 'Random' - Randomly selected 100 points in the matrix\n",
    "- 'All' - predictors - all known cells in the matrix (the runtime is very big)\n",
    "- 'Biome' - the 40 closest pixels (according to the Euclidean metric) from the same biome as the gap are selected as predictors\n",
    "\n",
    "### Options for configuring hyperparameters - hyperparameters\n",
    "- DEFAULT, 'RandomGridSearch' - random grid search\n",
    "- 'GridSearch' - full grid search\n",
    "- 'Custom' - custom settings (dictionary)\n",
    "\n",
    "### Dictionary with hyperparameters (if hyperparameters = 'Custom') - params\n",
    "- DEFAULT, None. If hyperparameters != 'Custom', than ignored\n",
    "\n",
    "### Ability to use filled layers - add_outputs\n",
    "- DEFAULT, False, filled layers are not added to the training sample\n",
    "- True - in this case the matrices filled in by the algorithm are included in the training sample\n",
    "\n",
    "### Dictionary with gaps, skip and NoData values - key_values\n",
    "- DEFAULT, {'gap': -100.0, 'skip': -200.0, 'NoData': -32768.0}"
   ]
  },
  {
   "cell_type": "markdown",
   "metadata": {},
   "source": [
    "## Examples\n",
    "\n",
    "Example files are available at Samples/S3LST_gapfilling_example"
   ]
  },
  {
   "cell_type": "code",
   "execution_count": 1,
   "metadata": {},
   "outputs": [],
   "source": [
    "from SSGPToolbox.Gapfiller import SimpleSpatialGapfiller\n",
    "# Additional inputs\n",
    "import os"
   ]
  },
  {
   "cell_type": "markdown",
   "metadata": {},
   "source": [
    "The selected method is the support vector regression. The strategy for selecting predictors is \"Biome\". Selection of hyperparameters - custom settings in the form of a dictionary. The \"add_outputs\" and \"key_values\" parameters are set by default."
   ]
  },
  {
   "cell_type": "code",
   "execution_count": 3,
   "metadata": {},
   "outputs": [
    {
     "name": "stdout",
     "output_type": "stream",
     "text": [
      "Calculations for matrix 20190904T180830\n",
      "Number of gap pixels - 410\n",
      "Mean absolute error for cross-validation - 1.1415969714266285\n",
      "Runtime - 12.13143149999999 sec. \n",
      "\n",
      "Calculations for matrix 20190905T174219\n",
      "Number of gap pixels - 116\n",
      "Mean absolute error for cross-validation - 1.7379343010406838\n",
      "Runtime - 4.785419400000009 sec. \n",
      "\n",
      "Calculations for matrix 20190906T171608\n",
      "Number of gap pixels - 560\n",
      "Mean absolute error for cross-validation - 1.1603608914632153\n",
      "Runtime - 11.088895399999998 sec. \n",
      "\n"
     ]
    }
   ],
   "source": [
    "Gapfiller_SVR = SimpleSpatialGapfiller(directory = os.path.join(os.pardir, 'Samples', 'S3LST_gapfilling_example'))\n",
    "Gapfiller_SVR.fill_gaps(method = 'SVR', predictor_configuration = 'Biome',\n",
    "                        hyperparameters = 'Custom',\n",
    "                        params = {'kernel': 'linear', 'gamma': 'scale', 'C': 1000, 'epsilon': 1})"
   ]
  },
  {
   "cell_type": "markdown",
   "metadata": {},
   "source": [
    "Example of applying the algorithm. The selected method is LASSO regression. The strategy for selecting predictors is \"random 100 points\". Hyperparameter selection - full grid search. The matrices filled in by the algorithm will be included in the training selection for subsequent layers."
   ]
  },
  {
   "cell_type": "code",
   "execution_count": 4,
   "metadata": {},
   "outputs": [
    {
     "name": "stdout",
     "output_type": "stream",
     "text": [
      "Calculations for matrix 20190904T180830\n",
      "Number of gap pixels - 410\n",
      "Mean absolute error for cross-validation - 1.4150444194932246\n",
      "Runtime - 32.5438699 sec. \n",
      "\n",
      "Calculations for matrix 20190905T174219\n",
      "Number of gap pixels - 116\n",
      "Mean absolute error for cross-validation - 1.800161315829183\n",
      "Runtime - 8.72072390000001 sec. \n",
      "\n",
      "Calculations for matrix 20190906T171608\n",
      "Number of gap pixels - 560\n",
      "Mean absolute error for cross-validation - 1.456599494206458\n",
      "Runtime - 44.60398810000001 sec. \n",
      "\n"
     ]
    }
   ],
   "source": [
    "Gapfiller_LASSO = SimpleSpatialGapfiller(directory = os.path.join(os.pardir, 'Samples', 'S3LST_gapfilling_example'))\n",
    "Gapfiller_LASSO.fill_gaps(method = 'Lasso', predictor_configuration = 'Random',\n",
    "                          hyperparameters = 'GridSearch', add_outputs = True,\n",
    "                          key_values = {'gap': -100.0, 'skip': -200.0, 'NoData': -32768.0})"
   ]
  },
  {
   "cell_type": "code",
   "execution_count": 12,
   "metadata": {},
   "outputs": [
    {
     "name": "stdout",
     "output_type": "stream",
     "text": [
      "Calculations for matrix 20190904T180830\n",
      "Runtime - 0.008902100000000246 sec. \n",
      "\n",
      "Calculations for matrix 20190905T174219\n",
      "Runtime - 0.008225799999991068 sec. \n",
      "\n",
      "Calculations for matrix 20190906T171608\n",
      "Runtime - 0.00804290000007768 sec. \n",
      "\n"
     ]
    }
   ],
   "source": [
    "# Or we can fill in the gaps using simple interpolation without using a training sample\n",
    "Gapfiller = SimpleSpatialGapfiller(directory = os.path.join(os.pardir, 'Samples', 'S3LST_gapfilling_example'))\n",
    "Gapfiller.nn_interpolation()"
   ]
  },
  {
   "cell_type": "markdown",
   "metadata": {},
   "source": [
    "###### If after filling in the gaps, the layers need to be placed on a regular time grid to create a time series, then use the [Discretizator module](https://github.com/Dreamlone/SSGP-toolbox/tree/master/Notebooks/Discretizator.ipynb). This module has methods for filling in gaps in time series."
   ]
  }
 ],
 "metadata": {
  "kernelspec": {
   "display_name": "Python 3",
   "language": "python",
   "name": "python3"
  },
  "language_info": {
   "codemirror_mode": {
    "name": "ipython",
    "version": 3
   },
   "file_extension": ".py",
   "mimetype": "text/x-python",
   "name": "python",
   "nbconvert_exporter": "python",
   "pygments_lexer": "ipython3",
   "version": "3.8.5"
  }
 },
 "nbformat": 4,
 "nbformat_minor": 4
}
